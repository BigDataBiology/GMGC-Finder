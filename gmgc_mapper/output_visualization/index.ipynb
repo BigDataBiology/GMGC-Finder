{
 "cells": [
  {
   "cell_type": "markdown",
   "metadata": {},
   "source": [
    "# In order to run this code, this notebook has to be located in the output folder.\n"
   ]
  },
  {
   "cell_type": "code",
   "execution_count": null,
   "metadata": {},
   "outputs": [],
   "source": [
    "import pandas as pd\n",
    "import matplotlib.pyplot as plt"
   ]
  },
  {
   "cell_type": "code",
   "execution_count": null,
   "metadata": {},
   "outputs": [],
   "source": [
    "hit_table = pd.read_table(\"hit_table.tsv\", comment='#', index_col=0)"
   ]
  },
  {
   "cell_type": "markdown",
   "metadata": {},
   "source": [
    "After the query to GMGC (Global Microbial Gene Catalog) of the input genome, as an output are obtained the Hit table and the genome bin table. <br>\n",
    "The results of the query are represented in the Hit Table which contain 5 columns: <br>\n",
    "1. query_name: the id of the input genome\n",
    "2. gene_id: the unigene with the best score in the catalog\n",
    "3. align_category: has 4 classes divided by the percent of nucleotide identity of the gene in the calaog with certain percent of coverage, the classes are listed below: \n",
    "    1. EXACT: More than 95% nucleotide identity with at least 95% coverage\n",
    "    2. SIMILAR: More than 80% amino acid identity with at least 80% coverage\n",
    "    3. MATCH: More than 50% amino acid identity with at least 50% coverage\n",
    "    4. NO MATCH: No match in the catalog \n",
    "4. gene_dna: the DNA sequence with the best score in the catalog\n",
    "5. gene_protein: the protein sequence with the best score in the catalog\n",
    "\n",
    "For the graphic representation the align_category column will be used."
   ]
  },
  {
   "cell_type": "code",
   "execution_count": null,
   "metadata": {},
   "outputs": [],
   "source": [
    "hist = hit_table['align_category'].value_counts(ascending=True)\n",
    "graf = hist.plot(kind = 'barh', figsize = (10, 5), color = 'salmon', zorder = 5, width = 0.7)\n",
    "graf.tick_params(axis = \"both\", which = \"both\", bottom = \"off\", top = \"off\", \n",
    "                 labelbottom = \"on\", left = \"off\", right = \"off\", labelleft = \"on\")\n",
    "vals = graf.get_xticks()\n",
    "for tick in vals:\n",
    "    graf.axvline(x = tick, linestyle = 'dashed', alpha = 0.8, color = 'lightgrey', zorder = 1)\n",
    "graf.set_xlabel(\"Counts\", labelpad = 10, weight = 'bold', size = 12)\n",
    "graf.set_ylabel(\"Align Category\", labelpad = 10, weight = 'bold', size = 12)\n",
    "graf.set_title(\"GMGC mapper\", weight = 'bold', size = 14)\n",
    "for i, v in enumerate(hist): \n",
    "    graf.text(v + 80 , i , f\"{v} ({v/hit_table.shape[0]:.1%})\", color = 'darkred', fontweight = 'bold')"
   ]
  },
  {
   "cell_type": "markdown",
   "metadata": {},
   "source": [
    "The above graph shows the percent of genes that were found in the 4 categories: \n",
    "1. EXACT: More than 95% nucleotide identity with at least 95% coverage\n",
    "2. SIMILAR: More than 80% amino acid identity with at least 80% coverage\n",
    "3. MATCH: More than 50% amino acid identity with at least 50% coverage\n",
    "4. NO MATCH: No match in the catalog "
   ]
  },
  {
   "cell_type": "code",
   "execution_count": null,
   "metadata": {},
   "outputs": [],
   "source": [
    "gb = pd.read_table(\"genome_bin.tsv\", comment='#')"
   ]
  },
  {
   "cell_type": "markdown",
   "metadata": {},
   "source": [
    "The genome bin table has two columns: <br>\n",
    "1. genome_bin: the id of the genome bins (MAG's)\n",
    "2. nr_hits: the number of hits the input genes hit it\n",
    "\n",
    "For the graphic representation the nr_hits column will be used."
   ]
  },
  {
   "cell_type": "code",
   "execution_count": null,
   "metadata": {},
   "outputs": [],
   "source": [
    "hist_2 = gb['nr_hits'].value_counts().sort_index()\n",
    "k_2 = len(gb['nr_hits'])\n",
    "graf_2 = hist_2.plot(kind = 'barh', figsize = (10, 10), color = 'powderblue', zorder = 5, width = 0.5)\n",
    "graf_2.tick_params(axis = \"both\", which = \"both\", bottom = \"off\", top = \"off\", \n",
    "                   labelbottom = \"on\", left = \"off\", right = \"off\", labelleft = \"on\")\n",
    "vals_2 = graf_2.get_xticks()\n",
    "for tick in vals_2:\n",
    "    graf_2.axvline(x = tick, linestyle = 'dashed', alpha = 0.8, color = 'lightgrey', zorder = 1)\n",
    "graf_2.set_xlabel(\"Counts\", labelpad = 10, weight = 'bold', size = 12)\n",
    "graf_2.set_ylabel(\"Number of hits\", labelpad = 10, weight = 'bold', size = 12)\n",
    "graf_2.set_title(\"GMGC mapper\", weight = 'bold', size = 14)\n",
    "for i, v in enumerate(hist_2):\n",
    "    graf_2.text(v + 2 , i - 0.2, f\"{v} ({v/gb.shape[0]:.1%})\", color = 'teal', fontweight = 'bold', size = 8)"
   ]
  },
  {
   "cell_type": "markdown",
   "metadata": {},
   "source": [
    "The above graph shows the percent of genome bins being hit certain times, i.e the amount of genome bins that were hit certain number of times. "
   ]
  },
  {
   "cell_type": "code",
   "execution_count": null,
   "metadata": {},
   "outputs": [],
   "source": [
    "gb['num_hits'] = pd.cut(x = gb['nr_hits'], bins = [0, 10, 25, 50, 100], \n",
    "                        labels = ['<10 hits', '10-25 hits', '25-50 hits', '>50 hits' ], right = False)\n",
    "\n",
    "n_hits = gb['num_hits'].value_counts().sort_index()\n",
    "graf_4 = n_hits.plot(kind = 'bar', figsize = (8,6), color = 'powderblue', zorder = 5, width = 0.7)\n",
    "graf_4.tick_params(axis = \"both\", which = \"both\", bottom = \"off\", top = \"off\", \n",
    "                   labelbottom = \"on\", left = \"off\", right = \"off\", labelleft = \"on\")\n",
    "vals_4 = graf_4.get_yticks()\n",
    "for tick in vals_4:\n",
    "    graf_4.axhline(y = tick, linestyle = 'dashed', alpha = 0.8, color = 'lightgrey', zorder = 1)\n",
    "graf_4.set_xlabel(\"Number of hits\", labelpad = 10, weight = 'bold', size = 12)\n",
    "graf_4.set_ylabel(\"Counts\", labelpad = 10, weight = 'bold', size = 12)\n",
    "graf_4.set_title(\"GMGC mapper\", weight = 'bold', size = 14)\n",
    "for i, v in enumerate(n_hits): \n",
    "    graf_4.text(i, v + 5, f\"{v} ({v/gb.shape[0]:.1%})\", horizontalalignment = 'center', color = 'teal', fontweight = 'bold')"
   ]
  },
  {
   "cell_type": "markdown",
   "metadata": {},
   "source": [
    "The above graph classify the percent of the genome bins beeing hit certain times: \n",
    "1. $<10 hits$: the amount of genome bins the were hit less than 10 times \n",
    "2. $10 - 25 hits$: the amount of genome bins the were hit more than 10 times but less than 25 times \n",
    "3. $25 - 50 hits$: the amount of genome bins the were hit more than 25 times but less than 50 times \n",
    "4. $<50 hits$: the amount of genome bins the were hit at least 50 times  "
   ]
  },
  {
   "cell_type": "code",
   "execution_count": null,
   "metadata": {},
   "outputs": [],
   "source": []
  }
 ],
 "metadata": {
  "kernelspec": {
   "display_name": "Python 3",
   "language": "python",
   "name": "python3"
  },
  "language_info": {
   "codemirror_mode": {
    "name": "ipython",
    "version": 3
   },
   "file_extension": ".py",
   "mimetype": "text/x-python",
   "name": "python",
   "nbconvert_exporter": "python",
   "pygments_lexer": "ipython3",
   "version": "3.7.6"
  }
 },
 "nbformat": 4,
 "nbformat_minor": 4
}
