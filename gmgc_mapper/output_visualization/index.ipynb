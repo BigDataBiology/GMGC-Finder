{
 "cells": [
  {
   "cell_type": "markdown",
   "metadata": {},
   "source": [
    "### In order to run this code, this notebook has to be located in the output folder. "
   ]
  },
  {
   "cell_type": "code",
   "execution_count": null,
   "metadata": {},
   "outputs": [],
   "source": [
    "import pandas as pd\n",
    "import matplotlib.pyplot as plt"
   ]
  },
  {
   "cell_type": "code",
   "execution_count": null,
   "metadata": {},
   "outputs": [],
   "source": [
    "df = pd.read_csv(\"genome_bin.tsv\", header=1)\n",
    "df = df.iloc[:,0].str.split('\\t', expand=True)\n",
    "df[1] = df[1].astype(str).astype(int)"
   ]
  },
  {
   "cell_type": "code",
   "execution_count": null,
   "metadata": {},
   "outputs": [],
   "source": [
    "hist_2 = df[1].value_counts(ascending=True)\n",
    "k_2 = len(df[1])\n",
    "graf_2 = hist_2.plot(kind = 'barh', figsize = (10, 10), color = 'powderblue', zorder = 5, width = 0.5)\n",
    "graf_2.tick_params(axis = \"both\", which = \"both\", bottom = \"off\", top = \"off\", \n",
    "                   labelbottom = \"on\", left = \"off\", right = \"off\", labelleft = \"on\")\n",
    "vals_2 = graf_2.get_xticks()\n",
    "for tick in vals_2:\n",
    "    graf_2.axvline(x = tick, linestyle = 'dashed', alpha = 0.8, color = 'lightgrey', zorder = 1)\n",
    "graf_2.set_xlabel(\"Counts\", labelpad = 10, weight = 'bold', size = 12)\n",
    "graf_2.set_ylabel(\"Number of hits\", labelpad = 10, weight = 'bold', size = 12)\n",
    "graf_2.set_title(\"GMGC mapper\", weight = 'bold', size = 14)\n",
    "for i, v in enumerate(hist_2):\n",
    "    graf_2.text(v + 2 , i - 0.2, f\"{v} ({v/k_2:.1%})\", color = 'teal', fontweight = 'bold', size = 8)"
   ]
  },
  {
   "cell_type": "code",
   "execution_count": null,
   "metadata": {},
   "outputs": [],
   "source": [
    "hist_2 = df[1].value_counts().sort_index()\n",
    "k_2 = len(df[1])\n",
    "graf_3 = hist_2.plot(kind = 'barh', figsize = (10, 10), color = 'powderblue', zorder = 5, width = 0.5)\n",
    "graf_3.tick_params(axis = \"both\", which = \"both\", bottom = \"off\", top = \"off\", \n",
    "                   labelbottom = \"on\", left = \"off\", right = \"off\", labelleft = \"on\")\n",
    "vals_3 = graf_2.get_xticks()\n",
    "for tick in vals_3:\n",
    "    graf_3.axvline(x = tick, linestyle = 'dashed', alpha = 0.8, color = 'lightgrey', zorder = 1)\n",
    "graf_3.set_xlabel(\"Counts\", labelpad = 10, weight = 'bold', size = 12)\n",
    "graf_3.set_ylabel(\"Number of hits\", labelpad = 10, weight = 'bold', size = 12)\n",
    "graf_3.set_title(\"GMGC mapper\", weight = 'bold', size = 14)\n",
    "for i, v in enumerate(hist_2):\n",
    "    graf_3.text(v + 2 , i - 0.2, f\"{v} ({v/k_2:.1%})\", color = 'teal', fontweight = 'bold', size = 8)"
   ]
  },
  {
   "cell_type": "code",
   "execution_count": null,
   "metadata": {},
   "outputs": [],
   "source": [
    "df['num_hits'] = pd.cut(x = df[1], bins = [0, 10, 25, 50, 100], \n",
    "                        labels = ['<10 hits', '10 - 25 hits', '25 - 50 hits', '>50 hits' ], right = False)\n",
    "\n",
    "n_hits = df['num_hits'].value_counts().sort_index()\n",
    "k_3 = len(df[1])\n",
    "graf_4 = n_hits.plot(kind = 'bar', figsize = (8,6), color = 'powderblue', zorder = 5, width = 0.7)\n",
    "graf_4.tick_params(axis = \"both\", which = \"both\", bottom = \"off\", top = \"off\", \n",
    "                   labelbottom = \"on\", left = \"off\", right = \"off\", labelleft = \"on\")\n",
    "vals_4 = graf_4.get_yticks()\n",
    "for tick in vals_4:\n",
    "    graf_4.axhline(y = tick, linestyle = 'dashed', alpha = 0.8, color = 'lightgrey', zorder = 1)\n",
    "graf_4.set_xlabel(\"Counts\", labelpad = 10, weight = 'bold', size = 12)\n",
    "graf_4.set_ylabel(\"Number of hits\", labelpad = 10, weight = 'bold', size = 12)\n",
    "graf_4.set_title(\"GMGC mapper\", weight = 'bold', size = 14)\n",
    "for i, v in enumerate(n_hits): \n",
    "    graf_4.text(i, v + 5, f\"{v} ({v/k_3:.1%})\", horizontalalignment = 'center', color = 'teal', fontweight = 'bold') "
   ]
  },
  {
   "cell_type": "code",
   "execution_count": null,
   "metadata": {},
   "outputs": [],
   "source": [
    "df_2 = pd.read_csv(\"hit_table.tsv\",header=1)\n",
    "df_2 = df_2.iloc[:,0].str.split('\\t', expand=True)"
   ]
  },
  {
   "cell_type": "code",
   "execution_count": null,
   "metadata": {},
   "outputs": [],
   "source": [
    "hist = df_2[2].value_counts(ascending=True)\n",
    "k = len(df_2[2])\n",
    "graf = hist.plot(kind = 'barh', figsize = (10, 5), color = 'salmon', zorder = 5, width = 0.7)\n",
    "graf.tick_params(axis = \"both\", which = \"both\", bottom = \"off\", top = \"off\", \n",
    "                 labelbottom = \"on\", left = \"off\", right = \"off\", labelleft = \"on\")\n",
    "vals = graf.get_xticks()\n",
    "for tick in vals:\n",
    "    graf.axvline(x = tick, linestyle = 'dashed', alpha = 0.8, color = 'lightgrey', zorder = 1)\n",
    "graf.set_xlabel(\"Counts\", labelpad = 10, weight = 'bold', size = 12)\n",
    "graf.set_ylabel(\"Align Category\", labelpad = 10, weight = 'bold', size = 12)\n",
    "graf.set_title(\"GMGC mapper\", weight = 'bold', size = 14)\n",
    "for i, v in enumerate(hist): \n",
    "    graf.text(v + 80 , i , f\"{v} ({v/k:.1%})\", color = 'darkred', fontweight = 'bold') "
   ]
  },
  {
   "cell_type": "code",
   "execution_count": null,
   "metadata": {},
   "outputs": [],
   "source": []
  }
 ],
 "metadata": {
  "kernelspec": {
   "display_name": "Python 3",
   "language": "python",
   "name": "python3"
  },
  "language_info": {
   "codemirror_mode": {
    "name": "ipython",
    "version": 3
   },
   "file_extension": ".py",
   "mimetype": "text/x-python",
   "name": "python",
   "nbconvert_exporter": "python",
   "pygments_lexer": "ipython3",
   "version": "3.7.6"
  }
 },
 "nbformat": 4,
 "nbformat_minor": 4
}
